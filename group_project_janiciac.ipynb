{
  "nbformat": 4,
  "nbformat_minor": 0,
  "metadata": {
    "colab": {
      "name": "group project.ipynb",
      "provenance": [],
      "collapsed_sections": []
    },
    "kernelspec": {
      "name": "python3",
      "display_name": "Python 3"
    },
    "language_info": {
      "name": "python"
    }
  },
  "cells": [
    {
      "cell_type": "code",
      "metadata": {
        "colab": {
          "base_uri": "https://localhost:8080/"
        },
        "id": "WFtlFbGqaR4l",
        "outputId": "37646bb5-8337-4e36-aa1d-342e42d4afd2"
      },
      "source": [
        "!python -m spacy download en_core_web_lg"
      ],
      "execution_count": 1,
      "outputs": [
        {
          "output_type": "stream",
          "text": [
            "Requirement already satisfied: en_core_web_lg==2.2.5 from https://github.com/explosion/spacy-models/releases/download/en_core_web_lg-2.2.5/en_core_web_lg-2.2.5.tar.gz#egg=en_core_web_lg==2.2.5 in /usr/local/lib/python3.7/dist-packages (2.2.5)\n",
            "Requirement already satisfied: spacy>=2.2.2 in /usr/local/lib/python3.7/dist-packages (from en_core_web_lg==2.2.5) (2.2.4)\n",
            "Requirement already satisfied: catalogue<1.1.0,>=0.0.7 in /usr/local/lib/python3.7/dist-packages (from spacy>=2.2.2->en_core_web_lg==2.2.5) (1.0.0)\n",
            "Requirement already satisfied: requests<3.0.0,>=2.13.0 in /usr/local/lib/python3.7/dist-packages (from spacy>=2.2.2->en_core_web_lg==2.2.5) (2.23.0)\n",
            "Requirement already satisfied: setuptools in /usr/local/lib/python3.7/dist-packages (from spacy>=2.2.2->en_core_web_lg==2.2.5) (56.0.0)\n",
            "Requirement already satisfied: numpy>=1.15.0 in /usr/local/lib/python3.7/dist-packages (from spacy>=2.2.2->en_core_web_lg==2.2.5) (1.19.5)\n",
            "Requirement already satisfied: cymem<2.1.0,>=2.0.2 in /usr/local/lib/python3.7/dist-packages (from spacy>=2.2.2->en_core_web_lg==2.2.5) (2.0.5)\n",
            "Requirement already satisfied: blis<0.5.0,>=0.4.0 in /usr/local/lib/python3.7/dist-packages (from spacy>=2.2.2->en_core_web_lg==2.2.5) (0.4.1)\n",
            "Requirement already satisfied: wasabi<1.1.0,>=0.4.0 in /usr/local/lib/python3.7/dist-packages (from spacy>=2.2.2->en_core_web_lg==2.2.5) (0.8.2)\n",
            "Requirement already satisfied: murmurhash<1.1.0,>=0.28.0 in /usr/local/lib/python3.7/dist-packages (from spacy>=2.2.2->en_core_web_lg==2.2.5) (1.0.5)\n",
            "Requirement already satisfied: thinc==7.4.0 in /usr/local/lib/python3.7/dist-packages (from spacy>=2.2.2->en_core_web_lg==2.2.5) (7.4.0)\n",
            "Requirement already satisfied: srsly<1.1.0,>=1.0.2 in /usr/local/lib/python3.7/dist-packages (from spacy>=2.2.2->en_core_web_lg==2.2.5) (1.0.5)\n",
            "Requirement already satisfied: plac<1.2.0,>=0.9.6 in /usr/local/lib/python3.7/dist-packages (from spacy>=2.2.2->en_core_web_lg==2.2.5) (1.1.3)\n",
            "Requirement already satisfied: tqdm<5.0.0,>=4.38.0 in /usr/local/lib/python3.7/dist-packages (from spacy>=2.2.2->en_core_web_lg==2.2.5) (4.41.1)\n",
            "Requirement already satisfied: preshed<3.1.0,>=3.0.2 in /usr/local/lib/python3.7/dist-packages (from spacy>=2.2.2->en_core_web_lg==2.2.5) (3.0.5)\n",
            "Requirement already satisfied: importlib-metadata>=0.20; python_version < \"3.8\" in /usr/local/lib/python3.7/dist-packages (from catalogue<1.1.0,>=0.0.7->spacy>=2.2.2->en_core_web_lg==2.2.5) (3.10.1)\n",
            "Requirement already satisfied: idna<3,>=2.5 in /usr/local/lib/python3.7/dist-packages (from requests<3.0.0,>=2.13.0->spacy>=2.2.2->en_core_web_lg==2.2.5) (2.10)\n",
            "Requirement already satisfied: certifi>=2017.4.17 in /usr/local/lib/python3.7/dist-packages (from requests<3.0.0,>=2.13.0->spacy>=2.2.2->en_core_web_lg==2.2.5) (2020.12.5)\n",
            "Requirement already satisfied: urllib3!=1.25.0,!=1.25.1,<1.26,>=1.21.1 in /usr/local/lib/python3.7/dist-packages (from requests<3.0.0,>=2.13.0->spacy>=2.2.2->en_core_web_lg==2.2.5) (1.24.3)\n",
            "Requirement already satisfied: chardet<4,>=3.0.2 in /usr/local/lib/python3.7/dist-packages (from requests<3.0.0,>=2.13.0->spacy>=2.2.2->en_core_web_lg==2.2.5) (3.0.4)\n",
            "Requirement already satisfied: zipp>=0.5 in /usr/local/lib/python3.7/dist-packages (from importlib-metadata>=0.20; python_version < \"3.8\"->catalogue<1.1.0,>=0.0.7->spacy>=2.2.2->en_core_web_lg==2.2.5) (3.4.1)\n",
            "Requirement already satisfied: typing-extensions>=3.6.4; python_version < \"3.8\" in /usr/local/lib/python3.7/dist-packages (from importlib-metadata>=0.20; python_version < \"3.8\"->catalogue<1.1.0,>=0.0.7->spacy>=2.2.2->en_core_web_lg==2.2.5) (3.7.4.3)\n",
            "\u001b[38;5;2m✔ Download and installation successful\u001b[0m\n",
            "You can now load the model via spacy.load('en_core_web_lg')\n"
          ],
          "name": "stdout"
        }
      ]
    },
    {
      "cell_type": "code",
      "metadata": {
        "colab": {
          "base_uri": "https://localhost:8080/"
        },
        "id": "BX7-XENmabLU",
        "outputId": "f198c441-78ac-44ce-c763-b64d3c72f6d7"
      },
      "source": [
        "import nltk\n",
        "nltk.download(\"stopwords\")\n",
        "import en_core_web_sm\n",
        "import spacy\n",
        "from scipy.spatial.distance import cosine\n",
        "from nltk.corpus import stopwords\n",
        "\n",
        "nlp = spacy.load(\"en_core_web_lg\", disable=['ner', 'parser', \"tok2vec\"])\n",
        "stops = stopwords.words(\"english\")"
      ],
      "execution_count": 2,
      "outputs": [
        {
          "output_type": "stream",
          "text": [
            "[nltk_data] Downloading package stopwords to /root/nltk_data...\n",
            "[nltk_data]   Package stopwords is already up-to-date!\n"
          ],
          "name": "stdout"
        }
      ]
    },
    {
      "cell_type": "code",
      "metadata": {
        "colab": {
          "resources": {
            "http://localhost:8080/nbextensions/google.colab/files.js": {
              "data": "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",
              "ok": true,
              "headers": [
                [
                  "content-type",
                  "application/javascript"
                ]
              ],
              "status": 200,
              "status_text": ""
            }
          },
          "base_uri": "https://localhost:8080/",
          "height": 75
        },
        "id": "KHxEGhfuabNz",
        "outputId": "2f95ee15-69f5-4e97-9df0-98e2bf8775bc"
      },
      "source": [
        "from google.colab import files\n",
        "import io\n",
        "import pandas as pd\n",
        "\n",
        "uploaded = files.upload()\n",
        "behold = pd.read_excel(io.BytesIO(uploaded['Behold+product+data+04262021.xlsx']))"
      ],
      "execution_count": 3,
      "outputs": [
        {
          "output_type": "display_data",
          "data": {
            "text/html": [
              "\n",
              "     <input type=\"file\" id=\"files-56bfdbfb-515e-4ec4-8bb1-36daf3eab12b\" name=\"files[]\" multiple disabled\n",
              "        style=\"border:none\" />\n",
              "     <output id=\"result-56bfdbfb-515e-4ec4-8bb1-36daf3eab12b\">\n",
              "      Upload widget is only available when the cell has been executed in the\n",
              "      current browser session. Please rerun this cell to enable.\n",
              "      </output>\n",
              "      <script src=\"/nbextensions/google.colab/files.js\"></script> "
            ],
            "text/plain": [
              "<IPython.core.display.HTML object>"
            ]
          },
          "metadata": {
            "tags": []
          }
        },
        {
          "output_type": "stream",
          "text": [
            "Saving Behold+product+data+04262021.xlsx to Behold+product+data+04262021 (1).xlsx\n"
          ],
          "name": "stdout"
        }
      ]
    },
    {
      "cell_type": "code",
      "metadata": {
        "colab": {
          "base_uri": "https://localhost:8080/",
          "height": 655
        },
        "id": "K9xZ3iHdabQG",
        "outputId": "50d4aa47-c59e-4fbd-fa7b-90551a8ddcf6"
      },
      "source": [
        "behold[\"description\"] = behold[\"description\"].str.replace(\"\\n\", \"\")\n",
        "behold.head()"
      ],
      "execution_count": 55,
      "outputs": [
        {
          "output_type": "execute_result",
          "data": {
            "text/html": [
              "<div>\n",
              "<style scoped>\n",
              "    .dataframe tbody tr th:only-of-type {\n",
              "        vertical-align: middle;\n",
              "    }\n",
              "\n",
              "    .dataframe tbody tr th {\n",
              "        vertical-align: top;\n",
              "    }\n",
              "\n",
              "    .dataframe thead th {\n",
              "        text-align: right;\n",
              "    }\n",
              "</style>\n",
              "<table border=\"1\" class=\"dataframe\">\n",
              "  <thead>\n",
              "    <tr style=\"text-align: right;\">\n",
              "      <th></th>\n",
              "      <th>product_id</th>\n",
              "      <th>brand</th>\n",
              "      <th>brand_category</th>\n",
              "      <th>name</th>\n",
              "      <th>details</th>\n",
              "      <th>created_at</th>\n",
              "      <th>brand_canonical_url</th>\n",
              "      <th>description</th>\n",
              "      <th>brand_description</th>\n",
              "      <th>brand_name</th>\n",
              "      <th>product_active</th>\n",
              "      <th>cleaned_description</th>\n",
              "    </tr>\n",
              "  </thead>\n",
              "  <tbody>\n",
              "    <tr>\n",
              "      <th>0</th>\n",
              "      <td>01EX0PN4J9WRNZH5F93YEX6QAF</td>\n",
              "      <td>Others</td>\n",
              "      <td>Others</td>\n",
              "      <td>Khadi Stripe Shirt-our signature shirt</td>\n",
              "      <td>NaN</td>\n",
              "      <td>2021-01-27 01:17:19.305 UTC</td>\n",
              "      <td>https://two-nyc.myshopify.com/products/white-k...</td>\n",
              "      <td>Our signature khadi shirtavailable in black an...</td>\n",
              "      <td>Our signature khadi shirt\\n\\navailable in blac...</td>\n",
              "      <td>Khadi Stripe Shirt-our signature shirt</td>\n",
              "      <td>True</td>\n",
              "      <td>-PRON- signature khadi shirt available black w...</td>\n",
              "    </tr>\n",
              "    <tr>\n",
              "      <th>1</th>\n",
              "      <td>01F0C4SKZV6YXS3265JMC39NXW</td>\n",
              "      <td>Collina Strada</td>\n",
              "      <td>Others</td>\n",
              "      <td>RUFFLE MARKET DRESS LOOPY PINK SISTINE TOMATO</td>\n",
              "      <td>NaN</td>\n",
              "      <td>2021-03-09 18:43:10.457 UTC</td>\n",
              "      <td>https://collina-strada-2.myshopify.com/product...</td>\n",
              "      <td>Mid-length dress with ruffles and adjustable s...</td>\n",
              "      <td>Mid-length dress with ruffles and adjustable s...</td>\n",
              "      <td>RUFFLE MARKET DRESS LOOPY PINK SISTINE TOMATO</td>\n",
              "      <td>True</td>\n",
              "      <td>mid - length dress ruffle adjustable strap . b...</td>\n",
              "    </tr>\n",
              "    <tr>\n",
              "      <th>2</th>\n",
              "      <td>01EY4Y1BW8VZW51BWG5VZY82XW</td>\n",
              "      <td>Others</td>\n",
              "      <td>Others</td>\n",
              "      <td>IBI Slip On Raw Red Knit Sneaker Women</td>\n",
              "      <td>NaN</td>\n",
              "      <td>2021-02-10 02:58:59.591 UTC</td>\n",
              "      <td>https://cariuma.myshopify.com/products/ibi-sli...</td>\n",
              "      <td>IBI Slip On Raw Red Knit Sneaker Women</td>\n",
              "      <td>IBI Slip On Raw Red Knit Sneaker Women</td>\n",
              "      <td>IBI Slip On Raw Red Knit Sneaker Women</td>\n",
              "      <td>False</td>\n",
              "      <td>ibi slip raw red knit sneaker woman</td>\n",
              "    </tr>\n",
              "    <tr>\n",
              "      <th>3</th>\n",
              "      <td>01EY50E27A0P5V6KCW01XPDB43</td>\n",
              "      <td>Others</td>\n",
              "      <td>Others</td>\n",
              "      <td>IBI Slip On Black Knit Sneaker Women</td>\n",
              "      <td>NaN</td>\n",
              "      <td>2021-02-10 03:40:52.842 UTC</td>\n",
              "      <td>https://cariuma.myshopify.com/products/ibi-sli...</td>\n",
              "      <td>IBI Slip On Black Knit Sneaker Women</td>\n",
              "      <td>IBI Slip On Black Knit Sneaker Women</td>\n",
              "      <td>IBI Slip On Black Knit Sneaker Women</td>\n",
              "      <td>False</td>\n",
              "      <td>ibi slip black knit sneaker woman</td>\n",
              "    </tr>\n",
              "    <tr>\n",
              "      <th>4</th>\n",
              "      <td>01EY6DWHC2W5HPNEGXKEJ4A1CX</td>\n",
              "      <td>Others</td>\n",
              "      <td>Others</td>\n",
              "      <td>CATIBA PRO Skate Black Suede and Canvas Contra...</td>\n",
              "      <td>NaN</td>\n",
              "      <td>2021-02-10 16:55:13.024 UTC</td>\n",
              "      <td>https://cariuma.myshopify.com/products/catiba-...</td>\n",
              "      <td>nan</td>\n",
              "      <td>NaN</td>\n",
              "      <td>CATIBA PRO Skate Black Suede and Canvas Contra...</td>\n",
              "      <td>False</td>\n",
              "      <td>nan</td>\n",
              "    </tr>\n",
              "  </tbody>\n",
              "</table>\n",
              "</div>"
            ],
            "text/plain": [
              "                   product_id  ...                                cleaned_description\n",
              "0  01EX0PN4J9WRNZH5F93YEX6QAF  ...  -PRON- signature khadi shirt available black w...\n",
              "1  01F0C4SKZV6YXS3265JMC39NXW  ...  mid - length dress ruffle adjustable strap . b...\n",
              "2  01EY4Y1BW8VZW51BWG5VZY82XW  ...                ibi slip raw red knit sneaker woman\n",
              "3  01EY50E27A0P5V6KCW01XPDB43  ...                  ibi slip black knit sneaker woman\n",
              "4  01EY6DWHC2W5HPNEGXKEJ4A1CX  ...                                                nan\n",
              "\n",
              "[5 rows x 12 columns]"
            ]
          },
          "metadata": {
            "tags": []
          },
          "execution_count": 55
        }
      ]
    },
    {
      "cell_type": "code",
      "metadata": {
        "colab": {
          "base_uri": "https://localhost:8080/"
        },
        "id": "Z66NRWhpecct",
        "outputId": "64c7d00b-be45-4fcc-c135-7ee11367e752"
      },
      "source": [
        "behold['description'] = behold['description'].astype(str)\n",
        "behold.dtypes"
      ],
      "execution_count": 9,
      "outputs": [
        {
          "output_type": "execute_result",
          "data": {
            "text/plain": [
              "product_id             object\n",
              "brand                  object\n",
              "brand_category         object\n",
              "name                   object\n",
              "details                object\n",
              "created_at             object\n",
              "brand_canonical_url    object\n",
              "description            object\n",
              "brand_description      object\n",
              "brand_name             object\n",
              "product_active           bool\n",
              "dtype: object"
            ]
          },
          "metadata": {
            "tags": []
          },
          "execution_count": 9
        }
      ]
    },
    {
      "cell_type": "code",
      "metadata": {
        "id": "Iq0bq1eOabSW"
      },
      "source": [
        "def cleaner(text, lowercase, remove_stopwords):\n",
        "    if lowercase:\n",
        "        text = text.lower()\n",
        "    text = nlp(text)\n",
        "    lemmatized = list()\n",
        "    for word in text:\n",
        "        lemma = word.lemma_.strip()\n",
        "        if lemma:\n",
        "            if not remove_stopwords or (remove_stopwords and lemma not in stops):\n",
        "                lemmatized.append(lemma)\n",
        "    return \" \".join(lemmatized)\n",
        "\n",
        "behold['cleaned_description'] = behold['description'].apply(cleaner, lowercase=True, remove_stopwords=True)"
      ],
      "execution_count": 10,
      "outputs": []
    },
    {
      "cell_type": "code",
      "metadata": {
        "colab": {
          "base_uri": "https://localhost:8080/",
          "height": 1000
        },
        "id": "hlPQnzh34lNZ",
        "outputId": "25d0fe15-7557-417d-f8ef-5d65ac501f9d"
      },
      "source": [
        "behold"
      ],
      "execution_count": 51,
      "outputs": [
        {
          "output_type": "execute_result",
          "data": {
            "text/html": [
              "<div>\n",
              "<style scoped>\n",
              "    .dataframe tbody tr th:only-of-type {\n",
              "        vertical-align: middle;\n",
              "    }\n",
              "\n",
              "    .dataframe tbody tr th {\n",
              "        vertical-align: top;\n",
              "    }\n",
              "\n",
              "    .dataframe thead th {\n",
              "        text-align: right;\n",
              "    }\n",
              "</style>\n",
              "<table border=\"1\" class=\"dataframe\">\n",
              "  <thead>\n",
              "    <tr style=\"text-align: right;\">\n",
              "      <th></th>\n",
              "      <th>product_id</th>\n",
              "      <th>brand</th>\n",
              "      <th>brand_category</th>\n",
              "      <th>name</th>\n",
              "      <th>details</th>\n",
              "      <th>created_at</th>\n",
              "      <th>brand_canonical_url</th>\n",
              "      <th>description</th>\n",
              "      <th>brand_description</th>\n",
              "      <th>brand_name</th>\n",
              "      <th>product_active</th>\n",
              "      <th>cleaned_description</th>\n",
              "    </tr>\n",
              "  </thead>\n",
              "  <tbody>\n",
              "    <tr>\n",
              "      <th>0</th>\n",
              "      <td>01EX0PN4J9WRNZH5F93YEX6QAF</td>\n",
              "      <td>Others</td>\n",
              "      <td>Others</td>\n",
              "      <td>Khadi Stripe Shirt-our signature shirt</td>\n",
              "      <td>NaN</td>\n",
              "      <td>2021-01-27 01:17:19.305 UTC</td>\n",
              "      <td>https://two-nyc.myshopify.com/products/white-k...</td>\n",
              "      <td>Our signature khadi shirt\\navailable in black ...</td>\n",
              "      <td>Our signature khadi shirt\\n\\navailable in blac...</td>\n",
              "      <td>Khadi Stripe Shirt-our signature shirt</td>\n",
              "      <td>True</td>\n",
              "      <td>-PRON- signature khadi shirt available black w...</td>\n",
              "    </tr>\n",
              "    <tr>\n",
              "      <th>1</th>\n",
              "      <td>01F0C4SKZV6YXS3265JMC39NXW</td>\n",
              "      <td>Collina Strada</td>\n",
              "      <td>Others</td>\n",
              "      <td>RUFFLE MARKET DRESS LOOPY PINK SISTINE TOMATO</td>\n",
              "      <td>NaN</td>\n",
              "      <td>2021-03-09 18:43:10.457 UTC</td>\n",
              "      <td>https://collina-strada-2.myshopify.com/product...</td>\n",
              "      <td>Mid-length dress with ruffles and adjustable s...</td>\n",
              "      <td>Mid-length dress with ruffles and adjustable s...</td>\n",
              "      <td>RUFFLE MARKET DRESS LOOPY PINK SISTINE TOMATO</td>\n",
              "      <td>True</td>\n",
              "      <td>mid - length dress ruffle adjustable strap . b...</td>\n",
              "    </tr>\n",
              "    <tr>\n",
              "      <th>2</th>\n",
              "      <td>01EY4Y1BW8VZW51BWG5VZY82XW</td>\n",
              "      <td>Others</td>\n",
              "      <td>Others</td>\n",
              "      <td>IBI Slip On Raw Red Knit Sneaker Women</td>\n",
              "      <td>NaN</td>\n",
              "      <td>2021-02-10 02:58:59.591 UTC</td>\n",
              "      <td>https://cariuma.myshopify.com/products/ibi-sli...</td>\n",
              "      <td>IBI Slip On Raw Red Knit Sneaker Women</td>\n",
              "      <td>IBI Slip On Raw Red Knit Sneaker Women</td>\n",
              "      <td>IBI Slip On Raw Red Knit Sneaker Women</td>\n",
              "      <td>False</td>\n",
              "      <td>ibi slip raw red knit sneaker woman</td>\n",
              "    </tr>\n",
              "    <tr>\n",
              "      <th>3</th>\n",
              "      <td>01EY50E27A0P5V6KCW01XPDB43</td>\n",
              "      <td>Others</td>\n",
              "      <td>Others</td>\n",
              "      <td>IBI Slip On Black Knit Sneaker Women</td>\n",
              "      <td>NaN</td>\n",
              "      <td>2021-02-10 03:40:52.842 UTC</td>\n",
              "      <td>https://cariuma.myshopify.com/products/ibi-sli...</td>\n",
              "      <td>IBI Slip On Black Knit Sneaker Women</td>\n",
              "      <td>IBI Slip On Black Knit Sneaker Women</td>\n",
              "      <td>IBI Slip On Black Knit Sneaker Women</td>\n",
              "      <td>False</td>\n",
              "      <td>ibi slip black knit sneaker woman</td>\n",
              "    </tr>\n",
              "    <tr>\n",
              "      <th>4</th>\n",
              "      <td>01EY6DWHC2W5HPNEGXKEJ4A1CX</td>\n",
              "      <td>Others</td>\n",
              "      <td>Others</td>\n",
              "      <td>CATIBA PRO Skate Black Suede and Canvas Contra...</td>\n",
              "      <td>NaN</td>\n",
              "      <td>2021-02-10 16:55:13.024 UTC</td>\n",
              "      <td>https://cariuma.myshopify.com/products/catiba-...</td>\n",
              "      <td>nan</td>\n",
              "      <td>NaN</td>\n",
              "      <td>CATIBA PRO Skate Black Suede and Canvas Contra...</td>\n",
              "      <td>False</td>\n",
              "      <td>nan</td>\n",
              "    </tr>\n",
              "    <tr>\n",
              "      <th>...</th>\n",
              "      <td>...</td>\n",
              "      <td>...</td>\n",
              "      <td>...</td>\n",
              "      <td>...</td>\n",
              "      <td>...</td>\n",
              "      <td>...</td>\n",
              "      <td>...</td>\n",
              "      <td>...</td>\n",
              "      <td>...</td>\n",
              "      <td>...</td>\n",
              "      <td>...</td>\n",
              "      <td>...</td>\n",
              "    </tr>\n",
              "    <tr>\n",
              "      <th>61350</th>\n",
              "      <td>01EYB5ERGYPFNGM6C9QK7Q9EV0</td>\n",
              "      <td>Others</td>\n",
              "      <td>Others</td>\n",
              "      <td>BowVida Mule in Black Suede Kidskin</td>\n",
              "      <td>Feminine flat mules.\\nSquare shape, V line on ...</td>\n",
              "      <td>2021-02-12 13:04:05.149 UTC</td>\n",
              "      <td>https://www.nomasei.com/en/produit/bowvida-mul...</td>\n",
              "      <td>The flat BowVida mule in black suede is the id...</td>\n",
              "      <td>The flat BowVida mule in black suede is the id...</td>\n",
              "      <td>BowVida Mule in Black Suede Kidskin</td>\n",
              "      <td>False</td>\n",
              "      <td>flat bowvida mule black suede ideal spring sum...</td>\n",
              "    </tr>\n",
              "    <tr>\n",
              "      <th>61351</th>\n",
              "      <td>01EHWTBFP368Q035FW95TRJDAY</td>\n",
              "      <td>Others</td>\n",
              "      <td>Others</td>\n",
              "      <td>Sandale Vida Mule In Tangerine Suede Kidskin</td>\n",
              "      <td>Feminine flat mules.\\nSquare shape, V line on ...</td>\n",
              "      <td>2020-09-10 20:12:19.514 UTC</td>\n",
              "      <td>https://www.nomasei.com/en/produit/vida-mule-i...</td>\n",
              "      <td>The flat Vida mule in tangerine suede is the c...</td>\n",
              "      <td>The flat Vida mule in tangerine suede is the c...</td>\n",
              "      <td>Sandale Vida Mule In Tangerine Suede Kidskin</td>\n",
              "      <td>False</td>\n",
              "      <td>flat vida mule tangerine suede comfortable fem...</td>\n",
              "    </tr>\n",
              "    <tr>\n",
              "      <th>61352</th>\n",
              "      <td>01EHWTCFTPPSCW10D4XBQZF28H</td>\n",
              "      <td>Others</td>\n",
              "      <td>Others</td>\n",
              "      <td>BowVida Mule in Fuschia Suede Kidskin</td>\n",
              "      <td>Feminine flat mules.\\nSquare shape, V line on ...</td>\n",
              "      <td>2020-09-10 20:12:52.43 UTC</td>\n",
              "      <td>https://www.nomasei.com/en/produit/mule-bowvid...</td>\n",
              "      <td>The flat BowVida mule in fuschia suede is the ...</td>\n",
              "      <td>The flat BowVida mule in fuschia suede is the ...</td>\n",
              "      <td>BowVida Mule in Fuschia Suede Kidskin</td>\n",
              "      <td>False</td>\n",
              "      <td>flat bowvida mule fuschia suede ideal spring s...</td>\n",
              "    </tr>\n",
              "    <tr>\n",
              "      <th>61353</th>\n",
              "      <td>01EYB5B5FH7JESXF82ZEMVXZMS</td>\n",
              "      <td>Others</td>\n",
              "      <td>Others</td>\n",
              "      <td>Vida Mule in Silver Metalized Leather</td>\n",
              "      <td>Feminine flat mules.\\nSquare shape, V line on ...</td>\n",
              "      <td>2021-02-12 13:02:07.344 UTC</td>\n",
              "      <td>https://www.nomasei.com/en/produit/vida-mule-i...</td>\n",
              "      <td>The flat Vida mule in silver metalized leather...</td>\n",
              "      <td>The flat Vida mule in silver metalized leather...</td>\n",
              "      <td>Vida Mule in Silver Metalized Leather</td>\n",
              "      <td>False</td>\n",
              "      <td>flat vida mule silver metalize leather comfort...</td>\n",
              "    </tr>\n",
              "    <tr>\n",
              "      <th>61354</th>\n",
              "      <td>01EHWTF4VNZ6FPF2836A0CFEEG</td>\n",
              "      <td>Others</td>\n",
              "      <td>Others</td>\n",
              "      <td>BowVida Mule in Bronze Metalized Leather</td>\n",
              "      <td>Feminine flat mules.\\nSquare shape, V line on ...</td>\n",
              "      <td>2020-09-10 20:14:19.502 UTC</td>\n",
              "      <td>https://www.nomasei.com/en/produit/bowvida-mul...</td>\n",
              "      <td>The flat BowVida mule in bronze leather is the...</td>\n",
              "      <td>The flat BowVida mule in bronze leather is the...</td>\n",
              "      <td>BowVida Mule in Bronze Metalized Leather</td>\n",
              "      <td>False</td>\n",
              "      <td>flat bowvida mule bronze leather ideal spring ...</td>\n",
              "    </tr>\n",
              "  </tbody>\n",
              "</table>\n",
              "<p>61355 rows × 12 columns</p>\n",
              "</div>"
            ],
            "text/plain": [
              "                       product_id  ...                                cleaned_description\n",
              "0      01EX0PN4J9WRNZH5F93YEX6QAF  ...  -PRON- signature khadi shirt available black w...\n",
              "1      01F0C4SKZV6YXS3265JMC39NXW  ...  mid - length dress ruffle adjustable strap . b...\n",
              "2      01EY4Y1BW8VZW51BWG5VZY82XW  ...                ibi slip raw red knit sneaker woman\n",
              "3      01EY50E27A0P5V6KCW01XPDB43  ...                  ibi slip black knit sneaker woman\n",
              "4      01EY6DWHC2W5HPNEGXKEJ4A1CX  ...                                                nan\n",
              "...                           ...  ...                                                ...\n",
              "61350  01EYB5ERGYPFNGM6C9QK7Q9EV0  ...  flat bowvida mule black suede ideal spring sum...\n",
              "61351  01EHWTBFP368Q035FW95TRJDAY  ...  flat vida mule tangerine suede comfortable fem...\n",
              "61352  01EHWTCFTPPSCW10D4XBQZF28H  ...  flat bowvida mule fuschia suede ideal spring s...\n",
              "61353  01EYB5B5FH7JESXF82ZEMVXZMS  ...  flat vida mule silver metalize leather comfort...\n",
              "61354  01EHWTF4VNZ6FPF2836A0CFEEG  ...  flat bowvida mule bronze leather ideal spring ...\n",
              "\n",
              "[61355 rows x 12 columns]"
            ]
          },
          "metadata": {
            "tags": []
          },
          "execution_count": 51
        }
      ]
    },
    {
      "cell_type": "code",
      "metadata": {
        "colab": {
          "base_uri": "https://localhost:8080/",
          "height": 70
        },
        "id": "H95Jz1I55LyR",
        "outputId": "d98b62cf-67f9-4ee0-dd4b-e2217167e609"
      },
      "source": [
        "behold.iloc[0,11]"
      ],
      "execution_count": 53,
      "outputs": [
        {
          "output_type": "execute_result",
          "data": {
            "application/vnd.google.colaboratory.intrinsic+json": {
              "type": "string"
            },
            "text/plain": [
              "'-PRON- signature khadi shirt available black white easy wear beach city . -PRON- promise top -PRON- go - warm weather item . perfect blazer . hand loom weave stripe khadi cotton . slightly sheer get soft every wash . ship first week april color : white black — length 27 \" width 26.5 \" — one size fit — grid khadi cotton'"
            ]
          },
          "metadata": {
            "tags": []
          },
          "execution_count": 53
        }
      ]
    },
    {
      "cell_type": "code",
      "metadata": {
        "colab": {
          "base_uri": "https://localhost:8080/",
          "height": 70
        },
        "id": "ph5P_exR5Ti0",
        "outputId": "0a85b750-de80-4ee4-dedf-bd1eb447ea25"
      },
      "source": [
        "behold.iloc[0,7]"
      ],
      "execution_count": 54,
      "outputs": [
        {
          "output_type": "execute_result",
          "data": {
            "application/vnd.google.colaboratory.intrinsic+json": {
              "type": "string"
            },
            "text/plain": [
              "'Our signature khadi shirt\\navailable in black and white\\nEasy to wear from beach to city. We promise this top will be your go-to warm\\nweather item. Perfect under a blazer. Hand loomed woven stripe in khadi cotton.\\n Slightly sheer and gets softer with every wash. Ships First week of April\\nCOLOR: WHITE OR BLACK\\n—  Length 27\"  and  Width  26.5\" —  One size fits most —  Grid khadi cotton'"
            ]
          },
          "metadata": {
            "tags": []
          },
          "execution_count": 54
        }
      ]
    },
    {
      "cell_type": "code",
      "metadata": {
        "colab": {
          "base_uri": "https://localhost:8080/"
        },
        "id": "T4kgZax9tnQi",
        "outputId": "11a3285f-3743-48ef-8da9-f76dfb8b377e"
      },
      "source": [
        "brands = pd.Series(behold['brand'].value_counts())\n",
        "brands"
      ],
      "execution_count": 22,
      "outputs": [
        {
          "output_type": "execute_result",
          "data": {
            "text/plain": [
              "7 For All Mankind      9011\n",
              "Rails                  2864\n",
              "Intentionally Blank    2534\n",
              "A.L.C.                 2092\n",
              "Rachel Comey           2081\n",
              "                       ... \n",
              "WILLOW                    1\n",
              "CASASOLA                  1\n",
              "Mother of Pearl           1\n",
              "Alanui                    1\n",
              "Dodo Bar Or               1\n",
              "Name: brand, Length: 386, dtype: int64"
            ]
          },
          "metadata": {
            "tags": []
          },
          "execution_count": 22
        }
      ]
    },
    {
      "cell_type": "code",
      "metadata": {
        "colab": {
          "base_uri": "https://localhost:8080/"
        },
        "id": "r6iSyu52yWF6",
        "outputId": "883e2a8b-4c51-4cae-ed82-cf43f91d7367"
      },
      "source": [
        "top30 = list(brands[0:30].index)\n",
        "len(top30)"
      ],
      "execution_count": 29,
      "outputs": [
        {
          "output_type": "execute_result",
          "data": {
            "text/plain": [
              "30"
            ]
          },
          "metadata": {
            "tags": []
          },
          "execution_count": 29
        }
      ]
    },
    {
      "cell_type": "code",
      "metadata": {
        "id": "j7B2I6sUzOq9"
      },
      "source": [
        "for i in range(len(behold)):\n",
        "  if behold.iloc[i,1] not in top30:\n",
        "    behold.iloc[i,1] = 'Others'"
      ],
      "execution_count": 39,
      "outputs": []
    },
    {
      "cell_type": "code",
      "metadata": {
        "colab": {
          "base_uri": "https://localhost:8080/"
        },
        "id": "K7si-Iit04xe",
        "outputId": "0ffd4e51-d0e3-4bfc-b1e9-f7c38d547bea"
      },
      "source": [
        "behold['brand'].value_counts()"
      ],
      "execution_count": 40,
      "outputs": [
        {
          "output_type": "execute_result",
          "data": {
            "text/plain": [
              "Others                   15589\n",
              "7 For All Mankind         9011\n",
              "Rails                     2864\n",
              "Intentionally Blank       2534\n",
              "A.L.C.                    2092\n",
              "Rachel Comey              2081\n",
              "Misa                      2030\n",
              "Studio 189                1956\n",
              "ASTR the Label            1942\n",
              "lemlem                    1821\n",
              "Simon Miller              1451\n",
              "Cynthia Rowley            1347\n",
              "Outerknown                1338\n",
              "Chufy                     1209\n",
              "Faherty                   1204\n",
              "M.M.LaFleur               1192\n",
              "Janessa Leone             1119\n",
              "Araks                     1081\n",
              "Sea                       1053\n",
              "BROCHU WALKER             1001\n",
              "Tanya Taylor               991\n",
              "Clare V.                   922\n",
              "Nili Lotan                 717\n",
              "Les Girls Les Boys         695\n",
              "Prism                      667\n",
              "Sandy Liang                663\n",
              "6397                       652\n",
              "Ancient Greek Sandals      618\n",
              "Alo Yoga                   525\n",
              "Collina Strada             501\n",
              "Whit                       489\n",
              "Name: brand, dtype: int64"
            ]
          },
          "metadata": {
            "tags": []
          },
          "execution_count": 40
        }
      ]
    },
    {
      "cell_type": "code",
      "metadata": {
        "id": "M8tflFeE2E-d"
      },
      "source": [
        "behold['brand'] = behold['brand'].astype(str)"
      ],
      "execution_count": 44,
      "outputs": []
    },
    {
      "cell_type": "code",
      "metadata": {
        "colab": {
          "base_uri": "https://localhost:8080/"
        },
        "id": "BkJp5w3labUr",
        "outputId": "9b8c0220-77b9-44e7-c943-22ca86a0a3a4"
      },
      "source": [
        "X, y = behold.iloc[:, 11], behold.iloc[:, 1]\n",
        "X"
      ],
      "execution_count": 56,
      "outputs": [
        {
          "output_type": "execute_result",
          "data": {
            "text/plain": [
              "0        -PRON- signature khadi shirt available black w...\n",
              "1        mid - length dress ruffle adjustable strap . b...\n",
              "2                      ibi slip raw red knit sneaker woman\n",
              "3                        ibi slip black knit sneaker woman\n",
              "4                                                      nan\n",
              "                               ...                        \n",
              "61350    flat bowvida mule black suede ideal spring sum...\n",
              "61351    flat vida mule tangerine suede comfortable fem...\n",
              "61352    flat bowvida mule fuschia suede ideal spring s...\n",
              "61353    flat vida mule silver metalize leather comfort...\n",
              "61354    flat bowvida mule bronze leather ideal spring ...\n",
              "Name: cleaned_description, Length: 61355, dtype: object"
            ]
          },
          "metadata": {
            "tags": []
          },
          "execution_count": 56
        }
      ]
    },
    {
      "cell_type": "code",
      "metadata": {
        "id": "2_wXw5JqabW6"
      },
      "source": [
        "from sklearn.base import BaseEstimator\n",
        "from sklearn.feature_extraction.text import TfidfVectorizer\n",
        "\n",
        "class Text2TfIdfTransformer(BaseEstimator):\n",
        "\n",
        "    def __init__(self):\n",
        "        self._model = TfidfVectorizer()\n",
        "        pass\n",
        "\n",
        "    def fit(self, df_x, df_y=None):\n",
        "        self._model.fit(df_x)\n",
        "        return self\n",
        "\n",
        "    def transform(self, df_x):\n",
        "        return self._model.transform(df_x)"
      ],
      "execution_count": 57,
      "outputs": []
    },
    {
      "cell_type": "code",
      "metadata": {
        "id": "3qskRoZ1cSdI"
      },
      "source": [
        "from sklearn.model_selection import train_test_split\n",
        "X_train, X_test, y_train, y_test =\\\n",
        "    train_test_split(X, y,\n",
        "                     test_size=0.2,\n",
        "                     random_state = 0,\n",
        "                     stratify=y)"
      ],
      "execution_count": 61,
      "outputs": []
    },
    {
      "cell_type": "code",
      "metadata": {
        "colab": {
          "base_uri": "https://localhost:8080/"
        },
        "id": "LzTqvk0CcUb7",
        "outputId": "a81e8468-5dcd-4f51-85a7-6739cc607634"
      },
      "source": [
        "from sklearn.pipeline import Pipeline\n",
        "import xgboost as xgb\n",
        "pl_xgb_tf_idf = Pipeline(steps=[('tfidf',Text2TfIdfTransformer()),\n",
        "                         ('xgboost', xgb.XGBClassifier(objective='multi:softmax'))])\n",
        "model = pl_xgb_tf_idf.fit(X_train, y_train)\n",
        "model.score(X_test, y_test)"
      ],
      "execution_count": 62,
      "outputs": [
        {
          "output_type": "execute_result",
          "data": {
            "text/plain": [
              "0.8370955912313585"
            ]
          },
          "metadata": {
            "tags": []
          },
          "execution_count": 62
        }
      ]
    },
    {
      "cell_type": "code",
      "metadata": {
        "id": "bqxXAwdksdUe"
      },
      "source": [
        ""
      ],
      "execution_count": null,
      "outputs": []
    }
  ]
}